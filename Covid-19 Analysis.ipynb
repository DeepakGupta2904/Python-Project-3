{
 "cells": [
  {
   "cell_type": "code",
   "execution_count": null,
   "id": "c45854e2",
   "metadata": {},
   "outputs": [],
   "source": [
    "##### Import the modules:-\n",
    "import pandas as pd \n",
    "import numpy as np \n",
    "import seaborn as sns\n",
    "import matplotlib.pyplot as plt \n",
    "print('Modules are imported.')"
   ]
  },
  {
   "cell_type": "code",
   "execution_count": null,
   "id": "e034e0e0",
   "metadata": {},
   "outputs": [],
   "source": [
    "##### importing covid19 dataset:-\n",
    "df=pd.read_csv(\"../input/covid19/covid19_Confirmed_dataset.csv\")"
   ]
  },
  {
   "cell_type": "code",
   "execution_count": null,
   "id": "d9727376",
   "metadata": {},
   "outputs": [],
   "source": [
    "df.head()"
   ]
  },
  {
   "cell_type": "code",
   "execution_count": null,
   "id": "37e9e67a",
   "metadata": {},
   "outputs": [],
   "source": [
    "##### check the shape of the dataframe:-\n",
    "df.shape"
   ]
  },
  {
   "cell_type": "code",
   "execution_count": null,
   "id": "fc399109",
   "metadata": {},
   "outputs": [],
   "source": [
    "##### Delete the useless columns:-\n",
    "df.drop([\"Lat\",\"Long\"],axis=1,inplace=True)"
   ]
  },
  {
   "cell_type": "code",
   "execution_count": null,
   "id": "48bcac15",
   "metadata": {},
   "outputs": [],
   "source": [
    "df.head()"
   ]
  },
  {
   "cell_type": "code",
   "execution_count": null,
   "id": "cff5aacf",
   "metadata": {},
   "outputs": [],
   "source": [
    "##### Aggregating the rows by the country:-\n",
    "aggregating=df.groupby(\"Country/Region\").sum()"
   ]
  },
  {
   "cell_type": "code",
   "execution_count": null,
   "id": "eb558e5e",
   "metadata": {},
   "outputs": [],
   "source": [
    "aggregating.head()"
   ]
  },
  {
   "cell_type": "code",
   "execution_count": null,
   "id": "58114ba6",
   "metadata": {},
   "outputs": [],
   "source": [
    "aggregating.shape"
   ]
  },
  {
   "cell_type": "code",
   "execution_count": null,
   "id": "afc1ee3f",
   "metadata": {},
   "outputs": [],
   "source": [
    "##### Visualizing data related to a country for example China:-\n",
    "aggregating.loc[\"China\"].plot()\n",
    "aggregating.loc[\"Italy\"].plot()\n",
    "aggregating.loc[\"Spain\"].plot()\n",
    "plt.legend()"
   ]
  },
  {
   "cell_type": "code",
   "execution_count": null,
   "id": "0208b790",
   "metadata": {},
   "outputs": [],
   "source": [
    "##### Calculating a good measure:-\n",
    "aggregating.loc['China'].plot()"
   ]
  },
  {
   "cell_type": "code",
   "execution_count": null,
   "id": "81b371ae",
   "metadata": {},
   "outputs": [],
   "source": [
    "aggregating.loc['China'][:3].plot()"
   ]
  },
  {
   "cell_type": "code",
   "execution_count": null,
   "id": "5e2b50b8",
   "metadata": {},
   "outputs": [],
   "source": [
    "##### caculating the first derivative of the curve:-\n",
    "aggregating.loc['China'].diff().plot()"
   ]
  },
  {
   "cell_type": "code",
   "execution_count": null,
   "id": "78574b27",
   "metadata": {},
   "outputs": [],
   "source": [
    "aggregating.loc['China'].diff().max()"
   ]
  },
  {
   "cell_type": "code",
   "execution_count": null,
   "id": "a6591743",
   "metadata": {},
   "outputs": [],
   "source": [
    "aggregating.loc['Italy'].diff().max()"
   ]
  },
  {
   "cell_type": "code",
   "execution_count": null,
   "id": "d6379340",
   "metadata": {},
   "outputs": [],
   "source": [
    "aggregating.loc['Spain'].diff().max()"
   ]
  },
  {
   "cell_type": "code",
   "execution_count": null,
   "id": "07c9393b",
   "metadata": {},
   "outputs": [],
   "source": [
    "##### find maximum infection rate for all of the countries:-\n",
    "countries=list(aggregating.index)\n",
    "max_infection_rates=[]\n",
    "for c in countries:\n",
    "    max_infection_rates.append(aggregating.loc[c].diff().max())\n",
    "aggregating[\"max_infection_rates\"]=max_infection_rates"
   ]
  },
  {
   "cell_type": "code",
   "execution_count": null,
   "id": "cd993e3e",
   "metadata": {},
   "outputs": [],
   "source": [
    "aggregating.head()"
   ]
  },
  {
   "cell_type": "code",
   "execution_count": null,
   "id": "cfa20cd5",
   "metadata": {},
   "outputs": [],
   "source": [
    "##### create a new dataframe with only needed column:-\n",
    "data=pd.DataFrame(aggregating[\"max_infection_rates\"])"
   ]
  },
  {
   "cell_type": "code",
   "execution_count": null,
   "id": "b64eef51",
   "metadata": {},
   "outputs": [],
   "source": [
    "data.head()"
   ]
  },
  {
   "cell_type": "code",
   "execution_count": null,
   "id": "c42cbde2",
   "metadata": {},
   "outputs": [],
   "source": [
    "##### importing the dataset:-\n",
    "happiness=pd.read_csv(\"../input/covid19/worldwide_happiness_report.csv\")"
   ]
  },
  {
   "cell_type": "code",
   "execution_count": null,
   "id": "93acb63d",
   "metadata": {},
   "outputs": [],
   "source": [
    "happiness.head()"
   ]
  },
  {
   "cell_type": "code",
   "execution_count": null,
   "id": "5a51a3de",
   "metadata": {},
   "outputs": [],
   "source": [
    "##### let's drop the useless columns:-\n",
    "cols=[\"Overall rank\",\"Score\",\"Generosity\",\"Perceptions of corruption\"]"
   ]
  },
  {
   "cell_type": "code",
   "execution_count": null,
   "id": "883cd85d",
   "metadata": {},
   "outputs": [],
   "source": [
    "happiness.drop(cols,axis=1,inplace=True)\n",
    "happiness.head()"
   ]
  },
  {
   "cell_type": "code",
   "execution_count": null,
   "id": "f4977763",
   "metadata": {},
   "outputs": [],
   "source": [
    "##### changing the indices of the dataframe:-\n",
    "happiness.set_index(\"Country or region\",inplace=True)\n",
    "happiness.head()"
   ]
  },
  {
   "cell_type": "code",
   "execution_count": null,
   "id": "37243034",
   "metadata": {},
   "outputs": [],
   "source": [
    "##### now let's join two dataset we have prepared\n",
    "##### Corona Dataset:-\n",
    "data.head()"
   ]
  },
  {
   "cell_type": "code",
   "execution_count": null,
   "id": "3ead9645",
   "metadata": {},
   "outputs": [],
   "source": [
    "##### wolrd happiness report Dataset:-\n",
    "happiness.head()"
   ]
  },
  {
   "cell_type": "code",
   "execution_count": null,
   "id": "4de89faa",
   "metadata": {},
   "outputs": [],
   "source": [
    "final=data.join(happiness,how=\"inner\")\n",
    "final.head()"
   ]
  },
  {
   "cell_type": "code",
   "execution_count": null,
   "id": "ee98bab2",
   "metadata": {},
   "outputs": [],
   "source": [
    "##### correlation matrix:-\n",
    "final.corr()"
   ]
  },
  {
   "cell_type": "code",
   "execution_count": null,
   "id": "e317c63e",
   "metadata": {},
   "outputs": [],
   "source": [
    "final.head()"
   ]
  },
  {
   "cell_type": "code",
   "execution_count": null,
   "id": "b9506b3b",
   "metadata": {},
   "outputs": [],
   "source": [
    "##### Visualization of the results:-\n",
    "##### Plotting GDP vs maximum Infection rate:-\n",
    "x=final[\"GDP per capita\"]\n",
    "y=final[\"max_infection_rates\"]\n",
    "sns.scatterplot(x,np.log(y))"
   ]
  },
  {
   "cell_type": "code",
   "execution_count": null,
   "id": "679474fe",
   "metadata": {},
   "outputs": [],
   "source": [
    "sns.regplot(x,np.log(y))"
   ]
  },
  {
   "cell_type": "code",
   "execution_count": null,
   "id": "8dea4c4a",
   "metadata": {},
   "outputs": [],
   "source": [
    "##### Plotting Social support vs maximum Infection rate:-\n",
    "x=final[\"Social support\"]\n",
    "y=final[\"max_infection_rates\"]\n",
    "sns.scatterplot(x,np.log(y))"
   ]
  },
  {
   "cell_type": "code",
   "execution_count": null,
   "id": "0600c5a1",
   "metadata": {},
   "outputs": [],
   "source": [
    "sns.regplot(x,np.log(y))"
   ]
  },
  {
   "cell_type": "code",
   "execution_count": null,
   "id": "5ff547be",
   "metadata": {},
   "outputs": [],
   "source": [
    "##### Plotting Healthy life expectancy vs maximum Infection rate:-\n",
    "x=final[\"Healthy life expectancy\"]\n",
    "y=final[\"max_infection_rates\"]\n",
    "sns.scatterplot(x,np.log(y))"
   ]
  },
  {
   "cell_type": "code",
   "execution_count": null,
   "id": "756b1402",
   "metadata": {},
   "outputs": [],
   "source": [
    "sns.regplot(x,np.log(y))"
   ]
  },
  {
   "cell_type": "code",
   "execution_count": null,
   "id": "9499fffb",
   "metadata": {},
   "outputs": [],
   "source": [
    "##### Plotting Freedom to make life choices vs maximum Infection rate:-\n",
    "x=final[\"Freedom to make life choices\"]\n",
    "y=final[\"max_infection_rates\"]\n",
    "sns.scatterplot(x,np.log(y))"
   ]
  },
  {
   "cell_type": "code",
   "execution_count": null,
   "id": "4f884d75",
   "metadata": {},
   "outputs": [],
   "source": [
    "sns.regplot(x,np.log(y))"
   ]
  },
  {
   "cell_type": "code",
   "execution_count": null,
   "id": "9ff19f4b",
   "metadata": {},
   "outputs": [],
   "source": []
  }
 ],
 "metadata": {
  "kernelspec": {
   "display_name": "Python 3 (ipykernel)",
   "language": "python",
   "name": "python3"
  },
  "language_info": {
   "codemirror_mode": {
    "name": "ipython",
    "version": 3
   },
   "file_extension": ".py",
   "mimetype": "text/x-python",
   "name": "python",
   "nbconvert_exporter": "python",
   "pygments_lexer": "ipython3",
   "version": "3.10.9"
  }
 },
 "nbformat": 4,
 "nbformat_minor": 5
}
